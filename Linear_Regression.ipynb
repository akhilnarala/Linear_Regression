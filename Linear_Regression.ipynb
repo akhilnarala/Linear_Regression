{
 "cells": [
  {
   "cell_type": "code",
   "execution_count": null,
   "metadata": {
    "collapsed": true
   },
   "outputs": [],
   "source": [
    "Linear Regression"
   ]
  },
  {
   "cell_type": "code",
   "execution_count": 35,
   "metadata": {},
   "outputs": [
    {
     "name": "stdout",
     "output_type": "stream",
     "text": [
      "[[  32.50234527   31.70700585]\n",
      " [  53.42680403   68.77759598]\n",
      " [  61.53035803   62.5623823 ]\n",
      " [  47.47563963   71.54663223]\n",
      " [  59.81320787   87.23092513]\n",
      " [  55.14218841   78.21151827]\n",
      " [  52.21179669   79.64197305]\n",
      " [  39.29956669   59.17148932]\n",
      " [  48.10504169   75.3312423 ]\n",
      " [  52.55001444   71.30087989]\n",
      " [  45.41973014   55.16567715]\n",
      " [  54.35163488   82.47884676]\n",
      " [  44.1640495    62.00892325]\n",
      " [  58.16847072   75.39287043]\n",
      " [  56.72720806   81.43619216]\n",
      " [  48.95588857   60.72360244]\n",
      " [  44.68719623   82.89250373]\n",
      " [  60.29732685   97.37989686]\n",
      " [  45.61864377   48.84715332]\n",
      " [  38.81681754   56.87721319]\n",
      " [  66.18981661   83.87856466]\n",
      " [  65.41605175  118.5912173 ]\n",
      " [  47.48120861   57.25181946]\n",
      " [  41.57564262   51.39174408]\n",
      " [  51.84518691   75.38065167]\n",
      " [  59.37082201   74.76556403]\n",
      " [  57.31000344   95.45505292]\n",
      " [  63.61556125   95.22936602]\n",
      " [  46.73761941   79.05240617]\n",
      " [  50.55676015   83.43207142]\n",
      " [  52.22399609   63.35879032]\n",
      " [  35.56783005   41.4128853 ]\n",
      " [  42.43647694   76.61734128]\n",
      " [  58.16454011   96.76956643]\n",
      " [  57.50444762   74.08413012]\n",
      " [  45.44053073   66.58814441]\n",
      " [  61.89622268   77.76848242]\n",
      " [  33.09383174   50.71958891]\n",
      " [  36.43600951   62.12457082]\n",
      " [  37.67565486   60.81024665]\n",
      " [  44.55560838   52.68298337]\n",
      " [  43.31828263   58.56982472]\n",
      " [  50.07314563   82.90598149]\n",
      " [  43.87061265   61.4247098 ]\n",
      " [  62.99748075  115.2441528 ]\n",
      " [  32.66904376   45.57058882]\n",
      " [  40.16689901   54.0840548 ]\n",
      " [  53.57507753   87.99445276]\n",
      " [  33.86421497   52.72549438]\n",
      " [  64.70713867   93.57611869]\n",
      " [  38.11982403   80.16627545]\n",
      " [  44.50253806   65.10171157]\n",
      " [  40.59953838   65.56230126]\n",
      " [  41.72067636   65.28088692]\n",
      " [  51.08863468   73.43464155]\n",
      " [  55.0780959    71.13972786]\n",
      " [  41.37772653   79.10282968]\n",
      " [  62.49469743   86.52053844]\n",
      " [  49.20388754   84.74269781]\n",
      " [  41.10268519   59.35885025]\n",
      " [  41.18201611   61.68403752]\n",
      " [  50.18638949   69.84760416]\n",
      " [  52.37844622   86.09829121]\n",
      " [  50.13548549   59.10883927]\n",
      " [  33.64470601   69.89968164]\n",
      " [  39.55790122   44.86249071]\n",
      " [  56.13038882   85.49806778]\n",
      " [  57.36205213   95.53668685]\n",
      " [  60.26921439   70.25193442]\n",
      " [  35.67809389   52.72173496]\n",
      " [  31.588117     50.39267014]\n",
      " [  53.66093226   63.64239878]\n",
      " [  46.68222865   72.24725107]\n",
      " [  43.10782022   57.81251298]\n",
      " [  70.34607562  104.25710159]\n",
      " [  44.49285588   86.64202032]\n",
      " [  57.5045333    91.486778  ]\n",
      " [  36.93007661   55.23166089]\n",
      " [  55.80573336   79.55043668]\n",
      " [  38.95476907   44.84712424]\n",
      " [  56.9012147    80.20752314]\n",
      " [  56.86890066   83.14274979]\n",
      " [  34.3331247    55.72348926]\n",
      " [  59.04974121   77.63418251]\n",
      " [  57.78822399   99.05141484]\n",
      " [  54.28232871   79.12064627]\n",
      " [  51.0887199    69.58889785]\n",
      " [  50.28283635   69.51050331]\n",
      " [  44.21174175   73.68756432]\n",
      " [  38.00548801   61.36690454]\n",
      " [  32.94047994   67.17065577]\n",
      " [  53.69163957   85.66820315]\n",
      " [  68.76573427  114.85387123]\n",
      " [  46.2309665    90.12357207]\n",
      " [  68.31936082   97.91982104]\n",
      " [  50.03017434   81.53699078]\n",
      " [  49.23976534   72.11183247]\n",
      " [  50.03957594   85.23200734]\n",
      " [  48.14985889   66.22495789]\n",
      " [  25.12848465   53.45439421]]\n"
     ]
    }
   ],
   "source": [
    "#Simple Linear regression (y=m*x+b)\n",
    "from numpy import *\n",
    "points=genfromtxt(\"data.csv\",delimiter=\",\")\n",
    "print(points)"
   ]
  },
  {
   "cell_type": "code",
   "execution_count": 36,
   "metadata": {
    "collapsed": true
   },
   "outputs": [],
   "source": [
    "points=delete(points,(0),axis=0)"
   ]
  },
  {
   "cell_type": "code",
   "execution_count": 37,
   "metadata": {},
   "outputs": [
    {
     "name": "stdout",
     "output_type": "stream",
     "text": [
      "[[  53.42680403   68.77759598]\n",
      " [  61.53035803   62.5623823 ]\n",
      " [  47.47563963   71.54663223]\n",
      " [  59.81320787   87.23092513]\n",
      " [  55.14218841   78.21151827]\n",
      " [  52.21179669   79.64197305]\n",
      " [  39.29956669   59.17148932]\n",
      " [  48.10504169   75.3312423 ]\n",
      " [  52.55001444   71.30087989]\n",
      " [  45.41973014   55.16567715]\n",
      " [  54.35163488   82.47884676]\n",
      " [  44.1640495    62.00892325]\n",
      " [  58.16847072   75.39287043]\n",
      " [  56.72720806   81.43619216]\n",
      " [  48.95588857   60.72360244]\n",
      " [  44.68719623   82.89250373]\n",
      " [  60.29732685   97.37989686]\n",
      " [  45.61864377   48.84715332]\n",
      " [  38.81681754   56.87721319]\n",
      " [  66.18981661   83.87856466]\n",
      " [  65.41605175  118.5912173 ]\n",
      " [  47.48120861   57.25181946]\n",
      " [  41.57564262   51.39174408]\n",
      " [  51.84518691   75.38065167]\n",
      " [  59.37082201   74.76556403]\n",
      " [  57.31000344   95.45505292]\n",
      " [  63.61556125   95.22936602]\n",
      " [  46.73761941   79.05240617]\n",
      " [  50.55676015   83.43207142]\n",
      " [  52.22399609   63.35879032]\n",
      " [  35.56783005   41.4128853 ]\n",
      " [  42.43647694   76.61734128]\n",
      " [  58.16454011   96.76956643]\n",
      " [  57.50444762   74.08413012]\n",
      " [  45.44053073   66.58814441]\n",
      " [  61.89622268   77.76848242]\n",
      " [  33.09383174   50.71958891]\n",
      " [  36.43600951   62.12457082]\n",
      " [  37.67565486   60.81024665]\n",
      " [  44.55560838   52.68298337]\n",
      " [  43.31828263   58.56982472]\n",
      " [  50.07314563   82.90598149]\n",
      " [  43.87061265   61.4247098 ]\n",
      " [  62.99748075  115.2441528 ]\n",
      " [  32.66904376   45.57058882]\n",
      " [  40.16689901   54.0840548 ]\n",
      " [  53.57507753   87.99445276]\n",
      " [  33.86421497   52.72549438]\n",
      " [  64.70713867   93.57611869]\n",
      " [  38.11982403   80.16627545]\n",
      " [  44.50253806   65.10171157]\n",
      " [  40.59953838   65.56230126]\n",
      " [  41.72067636   65.28088692]\n",
      " [  51.08863468   73.43464155]\n",
      " [  55.0780959    71.13972786]\n",
      " [  41.37772653   79.10282968]\n",
      " [  62.49469743   86.52053844]\n",
      " [  49.20388754   84.74269781]\n",
      " [  41.10268519   59.35885025]\n",
      " [  41.18201611   61.68403752]\n",
      " [  50.18638949   69.84760416]\n",
      " [  52.37844622   86.09829121]\n",
      " [  50.13548549   59.10883927]\n",
      " [  33.64470601   69.89968164]\n",
      " [  39.55790122   44.86249071]\n",
      " [  56.13038882   85.49806778]\n",
      " [  57.36205213   95.53668685]\n",
      " [  60.26921439   70.25193442]\n",
      " [  35.67809389   52.72173496]\n",
      " [  31.588117     50.39267014]\n",
      " [  53.66093226   63.64239878]\n",
      " [  46.68222865   72.24725107]\n",
      " [  43.10782022   57.81251298]\n",
      " [  70.34607562  104.25710159]\n",
      " [  44.49285588   86.64202032]\n",
      " [  57.5045333    91.486778  ]\n",
      " [  36.93007661   55.23166089]\n",
      " [  55.80573336   79.55043668]\n",
      " [  38.95476907   44.84712424]\n",
      " [  56.9012147    80.20752314]\n",
      " [  56.86890066   83.14274979]\n",
      " [  34.3331247    55.72348926]\n",
      " [  59.04974121   77.63418251]\n",
      " [  57.78822399   99.05141484]\n",
      " [  54.28232871   79.12064627]\n",
      " [  51.0887199    69.58889785]\n",
      " [  50.28283635   69.51050331]\n",
      " [  44.21174175   73.68756432]\n",
      " [  38.00548801   61.36690454]\n",
      " [  32.94047994   67.17065577]\n",
      " [  53.69163957   85.66820315]\n",
      " [  68.76573427  114.85387123]\n",
      " [  46.2309665    90.12357207]\n",
      " [  68.31936082   97.91982104]\n",
      " [  50.03017434   81.53699078]\n",
      " [  49.23976534   72.11183247]\n",
      " [  50.03957594   85.23200734]\n",
      " [  48.14985889   66.22495789]\n",
      " [  25.12848465   53.45439421]]\n"
     ]
    }
   ],
   "source": [
    "print(points)"
   ]
  },
  {
   "cell_type": "code",
   "execution_count": 38,
   "metadata": {
    "collapsed": true
   },
   "outputs": [],
   "source": [
    "# Original values of y are in y_actual\n",
    "y_actual=array(points[:,len(points[0])-1])"
   ]
  },
  {
   "cell_type": "code",
   "execution_count": 39,
   "metadata": {
    "collapsed": true
   },
   "outputs": [],
   "source": [
    "#Modifying points matrix y-intercept values(i.e., b values) to 1\n",
    "points[:,len(points[0])-1]=1"
   ]
  },
  {
   "cell_type": "code",
   "execution_count": 40,
   "metadata": {},
   "outputs": [
    {
     "name": "stdout",
     "output_type": "stream",
     "text": [
      "[[ 53.42680403   1.        ]\n",
      " [ 61.53035803   1.        ]\n",
      " [ 47.47563963   1.        ]\n",
      " [ 59.81320787   1.        ]\n",
      " [ 55.14218841   1.        ]\n",
      " [ 52.21179669   1.        ]\n",
      " [ 39.29956669   1.        ]\n",
      " [ 48.10504169   1.        ]\n",
      " [ 52.55001444   1.        ]\n",
      " [ 45.41973014   1.        ]\n",
      " [ 54.35163488   1.        ]\n",
      " [ 44.1640495    1.        ]\n",
      " [ 58.16847072   1.        ]\n",
      " [ 56.72720806   1.        ]\n",
      " [ 48.95588857   1.        ]\n",
      " [ 44.68719623   1.        ]\n",
      " [ 60.29732685   1.        ]\n",
      " [ 45.61864377   1.        ]\n",
      " [ 38.81681754   1.        ]\n",
      " [ 66.18981661   1.        ]\n",
      " [ 65.41605175   1.        ]\n",
      " [ 47.48120861   1.        ]\n",
      " [ 41.57564262   1.        ]\n",
      " [ 51.84518691   1.        ]\n",
      " [ 59.37082201   1.        ]\n",
      " [ 57.31000344   1.        ]\n",
      " [ 63.61556125   1.        ]\n",
      " [ 46.73761941   1.        ]\n",
      " [ 50.55676015   1.        ]\n",
      " [ 52.22399609   1.        ]\n",
      " [ 35.56783005   1.        ]\n",
      " [ 42.43647694   1.        ]\n",
      " [ 58.16454011   1.        ]\n",
      " [ 57.50444762   1.        ]\n",
      " [ 45.44053073   1.        ]\n",
      " [ 61.89622268   1.        ]\n",
      " [ 33.09383174   1.        ]\n",
      " [ 36.43600951   1.        ]\n",
      " [ 37.67565486   1.        ]\n",
      " [ 44.55560838   1.        ]\n",
      " [ 43.31828263   1.        ]\n",
      " [ 50.07314563   1.        ]\n",
      " [ 43.87061265   1.        ]\n",
      " [ 62.99748075   1.        ]\n",
      " [ 32.66904376   1.        ]\n",
      " [ 40.16689901   1.        ]\n",
      " [ 53.57507753   1.        ]\n",
      " [ 33.86421497   1.        ]\n",
      " [ 64.70713867   1.        ]\n",
      " [ 38.11982403   1.        ]\n",
      " [ 44.50253806   1.        ]\n",
      " [ 40.59953838   1.        ]\n",
      " [ 41.72067636   1.        ]\n",
      " [ 51.08863468   1.        ]\n",
      " [ 55.0780959    1.        ]\n",
      " [ 41.37772653   1.        ]\n",
      " [ 62.49469743   1.        ]\n",
      " [ 49.20388754   1.        ]\n",
      " [ 41.10268519   1.        ]\n",
      " [ 41.18201611   1.        ]\n",
      " [ 50.18638949   1.        ]\n",
      " [ 52.37844622   1.        ]\n",
      " [ 50.13548549   1.        ]\n",
      " [ 33.64470601   1.        ]\n",
      " [ 39.55790122   1.        ]\n",
      " [ 56.13038882   1.        ]\n",
      " [ 57.36205213   1.        ]\n",
      " [ 60.26921439   1.        ]\n",
      " [ 35.67809389   1.        ]\n",
      " [ 31.588117     1.        ]\n",
      " [ 53.66093226   1.        ]\n",
      " [ 46.68222865   1.        ]\n",
      " [ 43.10782022   1.        ]\n",
      " [ 70.34607562   1.        ]\n",
      " [ 44.49285588   1.        ]\n",
      " [ 57.5045333    1.        ]\n",
      " [ 36.93007661   1.        ]\n",
      " [ 55.80573336   1.        ]\n",
      " [ 38.95476907   1.        ]\n",
      " [ 56.9012147    1.        ]\n",
      " [ 56.86890066   1.        ]\n",
      " [ 34.3331247    1.        ]\n",
      " [ 59.04974121   1.        ]\n",
      " [ 57.78822399   1.        ]\n",
      " [ 54.28232871   1.        ]\n",
      " [ 51.0887199    1.        ]\n",
      " [ 50.28283635   1.        ]\n",
      " [ 44.21174175   1.        ]\n",
      " [ 38.00548801   1.        ]\n",
      " [ 32.94047994   1.        ]\n",
      " [ 53.69163957   1.        ]\n",
      " [ 68.76573427   1.        ]\n",
      " [ 46.2309665    1.        ]\n",
      " [ 68.31936082   1.        ]\n",
      " [ 50.03017434   1.        ]\n",
      " [ 49.23976534   1.        ]\n",
      " [ 50.03957594   1.        ]\n",
      " [ 48.14985889   1.        ]\n",
      " [ 25.12848465   1.        ]]\n"
     ]
    }
   ],
   "source": [
    "print(points)"
   ]
  },
  {
   "cell_type": "code",
   "execution_count": 41,
   "metadata": {},
   "outputs": [
    {
     "name": "stdout",
     "output_type": "stream",
     "text": [
      "[  68.77759598   62.5623823    71.54663223   87.23092513   78.21151827\n",
      "   79.64197305   59.17148932   75.3312423    71.30087989   55.16567715\n",
      "   82.47884676   62.00892325   75.39287043   81.43619216   60.72360244\n",
      "   82.89250373   97.37989686   48.84715332   56.87721319   83.87856466\n",
      "  118.5912173    57.25181946   51.39174408   75.38065167   74.76556403\n",
      "   95.45505292   95.22936602   79.05240617   83.43207142   63.35879032\n",
      "   41.4128853    76.61734128   96.76956643   74.08413012   66.58814441\n",
      "   77.76848242   50.71958891   62.12457082   60.81024665   52.68298337\n",
      "   58.56982472   82.90598149   61.4247098   115.2441528    45.57058882\n",
      "   54.0840548    87.99445276   52.72549438   93.57611869   80.16627545\n",
      "   65.10171157   65.56230126   65.28088692   73.43464155   71.13972786\n",
      "   79.10282968   86.52053844   84.74269781   59.35885025   61.68403752\n",
      "   69.84760416   86.09829121   59.10883927   69.89968164   44.86249071\n",
      "   85.49806778   95.53668685   70.25193442   52.72173496   50.39267014\n",
      "   63.64239878   72.24725107   57.81251298  104.25710159   86.64202032\n",
      "   91.486778     55.23166089   79.55043668   44.84712424   80.20752314\n",
      "   83.14274979   55.72348926   77.63418251   99.05141484   79.12064627\n",
      "   69.58889785   69.51050331   73.68756432   61.36690454   67.17065577\n",
      "   85.66820315  114.85387123   90.12357207   97.91982104   81.53699078\n",
      "   72.11183247   85.23200734   66.22495789   53.45439421]\n"
     ]
    }
   ],
   "source": [
    "print(y_actual)"
   ]
  },
  {
   "cell_type": "code",
   "execution_count": 42,
   "metadata": {
    "collapsed": true
   },
   "outputs": [],
   "source": [
    "#resizing as array\n",
    "y_actual.resize(len(points),1)"
   ]
  },
  {
   "cell_type": "code",
   "execution_count": 43,
   "metadata": {},
   "outputs": [
    {
     "name": "stdout",
     "output_type": "stream",
     "text": [
      "[[  68.77759598]\n",
      " [  62.5623823 ]\n",
      " [  71.54663223]\n",
      " [  87.23092513]\n",
      " [  78.21151827]\n",
      " [  79.64197305]\n",
      " [  59.17148932]\n",
      " [  75.3312423 ]\n",
      " [  71.30087989]\n",
      " [  55.16567715]\n",
      " [  82.47884676]\n",
      " [  62.00892325]\n",
      " [  75.39287043]\n",
      " [  81.43619216]\n",
      " [  60.72360244]\n",
      " [  82.89250373]\n",
      " [  97.37989686]\n",
      " [  48.84715332]\n",
      " [  56.87721319]\n",
      " [  83.87856466]\n",
      " [ 118.5912173 ]\n",
      " [  57.25181946]\n",
      " [  51.39174408]\n",
      " [  75.38065167]\n",
      " [  74.76556403]\n",
      " [  95.45505292]\n",
      " [  95.22936602]\n",
      " [  79.05240617]\n",
      " [  83.43207142]\n",
      " [  63.35879032]\n",
      " [  41.4128853 ]\n",
      " [  76.61734128]\n",
      " [  96.76956643]\n",
      " [  74.08413012]\n",
      " [  66.58814441]\n",
      " [  77.76848242]\n",
      " [  50.71958891]\n",
      " [  62.12457082]\n",
      " [  60.81024665]\n",
      " [  52.68298337]\n",
      " [  58.56982472]\n",
      " [  82.90598149]\n",
      " [  61.4247098 ]\n",
      " [ 115.2441528 ]\n",
      " [  45.57058882]\n",
      " [  54.0840548 ]\n",
      " [  87.99445276]\n",
      " [  52.72549438]\n",
      " [  93.57611869]\n",
      " [  80.16627545]\n",
      " [  65.10171157]\n",
      " [  65.56230126]\n",
      " [  65.28088692]\n",
      " [  73.43464155]\n",
      " [  71.13972786]\n",
      " [  79.10282968]\n",
      " [  86.52053844]\n",
      " [  84.74269781]\n",
      " [  59.35885025]\n",
      " [  61.68403752]\n",
      " [  69.84760416]\n",
      " [  86.09829121]\n",
      " [  59.10883927]\n",
      " [  69.89968164]\n",
      " [  44.86249071]\n",
      " [  85.49806778]\n",
      " [  95.53668685]\n",
      " [  70.25193442]\n",
      " [  52.72173496]\n",
      " [  50.39267014]\n",
      " [  63.64239878]\n",
      " [  72.24725107]\n",
      " [  57.81251298]\n",
      " [ 104.25710159]\n",
      " [  86.64202032]\n",
      " [  91.486778  ]\n",
      " [  55.23166089]\n",
      " [  79.55043668]\n",
      " [  44.84712424]\n",
      " [  80.20752314]\n",
      " [  83.14274979]\n",
      " [  55.72348926]\n",
      " [  77.63418251]\n",
      " [  99.05141484]\n",
      " [  79.12064627]\n",
      " [  69.58889785]\n",
      " [  69.51050331]\n",
      " [  73.68756432]\n",
      " [  61.36690454]\n",
      " [  67.17065577]\n",
      " [  85.66820315]\n",
      " [ 114.85387123]\n",
      " [  90.12357207]\n",
      " [  97.91982104]\n",
      " [  81.53699078]\n",
      " [  72.11183247]\n",
      " [  85.23200734]\n",
      " [  66.22495789]\n",
      " [  53.45439421]]\n"
     ]
    }
   ],
   "source": [
    "print(y_actual)"
   ]
  },
  {
   "cell_type": "code",
   "execution_count": 44,
   "metadata": {
    "collapsed": true
   },
   "outputs": [],
   "source": [
    "# Solving X=inverse(A).B\n",
    "mb_values=matrix(linalg.lstsq(points,y_actual)[0])"
   ]
  },
  {
   "cell_type": "code",
   "execution_count": 45,
   "metadata": {
    "collapsed": true
   },
   "outputs": [],
   "source": [
    "#Predicted values of y are dot product of matrix Points and matrix mb_values\n",
    "y_pred=dot(points,mb_values)"
   ]
  },
  {
   "cell_type": "code",
   "execution_count": 46,
   "metadata": {
    "collapsed": true
   },
   "outputs": [],
   "source": [
    "#Error prediction\n",
    "error=sum(multiply(y_actual-y_pred,y_actual-y_pred))/len(points)"
   ]
  },
  {
   "cell_type": "code",
   "execution_count": 49,
   "metadata": {},
   "outputs": [
    {
     "name": "stdout",
     "output_type": "stream",
     "text": [
      "m=1.2873573700109324\n"
     ]
    }
   ],
   "source": [
    "print(\"m=\",float(mb_values[0]),sep=\"\")"
   ]
  },
  {
   "cell_type": "code",
   "execution_count": 52,
   "metadata": {},
   "outputs": [
    {
     "name": "stdout",
     "output_type": "stream",
     "text": [
      "b=9.90860619032652\n"
     ]
    }
   ],
   "source": [
    "print(\"b=\",float(mb_values[1]),sep=\"\")"
   ]
  },
  {
   "cell_type": "code",
   "execution_count": 51,
   "metadata": {},
   "outputs": [
    {
     "name": "stdout",
     "output_type": "stream",
     "text": [
      "107.47043701\n"
     ]
    }
   ],
   "source": [
    "print(error)"
   ]
  },
  {
   "cell_type": "code",
   "execution_count": 61,
   "metadata": {},
   "outputs": [
    {
     "data": {
      "text/plain": [
       "[<matplotlib.lines.Line2D at 0x13bbd9ea940>]"
      ]
     },
     "execution_count": 61,
     "metadata": {},
     "output_type": "execute_result"
    }
   ],
   "source": [
    "#Plotting graph with y-predicted values\n",
    "from matplotlib import pyplot as plt\n",
    "plt.scatter(points[:,0],y_actual,color=\"red\")\n",
    "plt.plot(points[:,0],y_pred)"
   ]
  },
  {
   "cell_type": "code",
   "execution_count": 62,
   "metadata": {},
   "outputs": [
    {
     "data": {
      "image/png": "[encoded data removed]",
      "text/plain": [
       "<matplotlib.figure.Figure at 0x13bbd9ea9b0>"
      ]
     },
     "metadata": {},
     "output_type": "display_data"
    }
   ],
   "source": [
    "plt.show()"
   ]
  },
  {
   "cell_type": "code",
   "execution_count": null,
   "metadata": {
    "collapsed": true
   },
   "outputs": [],
   "source": []
  }
 ],
 "metadata": {
  "kernelspec": {
   "display_name": "Python 3",
   "language": "python",
   "name": "python3"
  },
  "language_info": {
   "codemirror_mode": {
    "name": "ipython",
    "version": 3
   },
   "file_extension": ".py",
   "mimetype": "text/x-python",
   "name": "python",
   "nbconvert_exporter": "python",
   "pygments_lexer": "ipython3",
   "version": "3.6.1"
  }
 },
 "nbformat": 4,
 "nbformat_minor": 2
}
